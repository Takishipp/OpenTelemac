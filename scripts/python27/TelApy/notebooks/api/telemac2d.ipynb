{
 "cells": [
  {
   "cell_type": "markdown",
   "metadata": {},
   "source": [
    "<span style=\"float:left;\">Licence CC BY-SA</span><span style=\"float:right;\">Fabrice Zaoui&nbsp;</span><br/>\n",
    "___"
   ]
  },
  {
   "cell_type": "markdown",
   "metadata": {},
   "source": [
    "This tutorial is intended for people who want to run Telemac 2D in an interactive mode with the help of the Python programming language. The interactive mode means that communication with Telemac becomes possible throughout the simulation without having to stop it. One can easily set or get the value of any variables at each time step with the help of special communication functions: the [Application Programming Interfaces](https://en.wikipedia.org/wiki/Application_programming_interface) (API).\n",
    "\n",
    "By using the APIs, research and engineering with Telemac is encouraged in every fields where communication is crucial: optimization, code coupling, control system, sensitivity analysis and so on."
   ]
  },
  {
   "cell_type": "markdown",
   "metadata": {},
   "source": [
    "# Telemac 2D as a Python module"
   ]
  },
  {
   "cell_type": "markdown",
   "metadata": {},
   "source": [
    "## Building the interface"
   ]
  },
  {
   "cell_type": "markdown",
   "metadata": {},
   "source": [
    "When using Telemac in a classic way (i.e. without API), you first have to compile all the Fortran sources of Telemac with (for example) the following command:"
   ]
  },
  {
   "cell_type": "code",
   "execution_count": 1,
   "metadata": {
    "collapsed": false
   },
   "outputs": [
    {
     "name": "stdout",
     "output_type": "stream",
     "text": [
      "\n",
      "\n",
      "Loading Options and Configurations\n",
      "~~~~~~~~~~~~~~~~~~~~~~~~~~~~~~~~~~~~~~~~~~~~~~~~~~~~~~~~~~~~~~~~~~~~~~~~\n",
      "\n",
      "                _                                                        _       _               \n",
      "               | |                                                      (_)     (_)              \n",
      "  _   _  _ __  | | __ _ __    ___  __      __ _ __    _ __   ___ __   __ _  ___  _   ___   _ __  \n",
      " | | | || '_ \\ | |/ /| '_ \\  / _ \\ \\ \\ /\\ / /| '_ \\  | '__| / _ \\\\ \\ / /| |/ __|| | / _ \\ | '_ \\ \n",
      " | |_| || | | ||   < | | | || (_) | \\ V  V / | | | | | |   |  __/ \\ V / | |\\__ \\| || (_) || | | |\n",
      "  \\__,_||_| |_||_|\\_\\|_| |_| \\___/   \\_/\\_/  |_| |_| |_|    \\___|  \\_/  |_||___/|_| \\___/ |_| |_|\n",
      "                                                                                                 \n",
      "                                                                                                 \n",
      "... parsing configuration file: /home/I21149/Modeles/TELEMAC/trunk/configs/systel.edf.cfg\n",
      "\n",
      "\n",
      "   _____   ___              __               _                        _    _  _____    _____         _               \n",
      "  / ____| / _ \\            / _|             | |                      | |  | ||  __ \\  / ____|       | |              \n",
      " | |     | (_) |     __ _ | |_   ___   _ __ | |_  _ __   __ _  _ __  | |__| || |__) || |          __| | _   _  _ __  \n",
      " | |      \\__, |    / _` ||  _| / _ \\ | '__|| __|| '__| / _` || '_ \\ |  __  ||  ___/ | |         / _` || | | || '_ \\ \n",
      " | |____    / /  _ | (_| || |  | (_) || |   | |_ | |   | (_| || | | || |  | || |     | |____  _ | (_| || |_| || | | |\n",
      "  \\_____|  /_/  (_) \\__, ||_|   \\___/ |_|    \\__||_|    \\__,_||_| |_||_|  |_||_|      \\_____|(_) \\__,_| \\__, ||_| |_|\n",
      "                     __/ |                                                                               __/ |       \n",
      "                    |___/                                                                               |___/        \n",
      "Scanning the source code for:\n",
      "~~~~~~~~~~~~~~~~~~~~~~~~~~~~~~~~~~~~~~~~~~~~~~~~~~~~~~~~~~~~~~~~~~~~~~~~\n",
      "\n",
      "    +> configuration: C9.gfortranHPC.dyn\n",
      "    +> root:          /home/I21149/Modeles/TELEMAC/trunk\n",
      "    +> modules:       telemac2d\n",
      "\n",
      "~~~~~~~~~~~~~~~~~~~~~~~~~~~~~~~~~~~~~~~~~~~~~~~~~~~~~~~~~~~~~~~~~~~~~~~~\n",
      "\n",
      "\n",
      "\n",
      "Compiling the program HOMERE_TELEMAC2D and dependents\n",
      "~~~~~~~~~~~~~~~~~~~~~~~~~~~~~~~~~~~~~~~~~~~~~~~~~~~~~~~~~~~~~~~~~~~~~~~~\n",
      "\n",
      "      +> There is no need to compile any object\n",
      "      +> There is no need to package any library\n",
      "      +> There is no need to create the associate executable\n",
      "\n",
      "\n",
      "My work is done\n",
      "\n",
      "\n"
     ]
    }
   ],
   "source": [
    "%%bash\n",
    "compileTELEMAC.py -m telemac2d"
   ]
  },
  {
   "cell_type": "markdown",
   "metadata": {
    "collapsed": true
   },
   "source": [
    "*Note: if an error occurs, check for the environment variables HOMETEL and SYSTELCFG before running the previous command.*"
   ]
  },
  {
   "cell_type": "markdown",
   "metadata": {},
   "source": [
    "If the compilation is successful, you will then run Telemac on your test case providing a steering file:"
   ]
  },
  {
   "cell_type": "code",
   "execution_count": 2,
   "metadata": {
    "collapsed": false
   },
   "outputs": [
    {
     "name": "stdout",
     "output_type": "stream",
     "text": [
      "\n",
      "\n",
      "Loading Options and Configurations\n",
      "~~~~~~~~~~~~~~~~~~~~~~~~~~~~~~~~~~~~~~~~~~~~~~~~~~~~~~~~~~~~~~~~~~~~~~~~\n",
      "\n",
      "                _                                                        _       _               \n",
      "               | |                                                      (_)     (_)              \n",
      "  _   _  _ __  | | __ _ __    ___  __      __ _ __    _ __   ___ __   __ _  ___  _   ___   _ __  \n",
      " | | | || '_ \\ | |/ /| '_ \\  / _ \\ \\ \\ /\\ / /| '_ \\  | '__| / _ \\\\ \\ / /| |/ __|| | / _ \\ | '_ \\ \n",
      " | |_| || | | ||   < | | | || (_) | \\ V  V / | | | | | |   |  __/ \\ V / | |\\__ \\| || (_) || | | |\n",
      "  \\__,_||_| |_||_|\\_\\|_| |_| \\___/   \\_/\\_/  |_| |_| |_|    \\___|  \\_/  |_||___/|_| \\___/ |_| |_|\n",
      "                                                                                                 \n",
      "                                                                                                 \n",
      "... parsing configuration file: /home/I21149/Modeles/TELEMAC/trunk/configs/systel.edf.cfg\n",
      "\n",
      "\n",
      "Running your CAS file for:\n",
      "~~~~~~~~~~~~~~~~~~~~~~~~~~~~~~~~~~~~~~~~~~~~~~~~~~~~~~~~~~~~~~~~~~~~~~~~\n",
      "\n",
      "    +> configuration: C9.gfortranHPC.dyn\n",
      "    +> root:          /home/I21149/Modeles/TELEMAC/trunk\n",
      "\n",
      "\n",
      "~~~~~~~~~~~~~~~~~~~~~~~~~~~~~~~~~~~~~~~~~~~~~~~~~~~~~~~~~~~~~~~~~~~~~~~~\n",
      "\n",
      "\n",
      "... reading the main module dictionary\n",
      "\n",
      "... processing the main CAS file(s)\n",
      "runCAS:\n",
      "   |runCAS: inexistent CAS file: /home/I21149/Modeles/TELEMAC/trunk/scripts/python27/TelApy/notebooks/api/my_steering_file.cas    +> or you may have forgotten an option key in your command line\n"
     ]
    }
   ],
   "source": [
    "%%bash\n",
    "telemac2d.py my_steering_file.cas"
   ]
  },
  {
   "cell_type": "markdown",
   "metadata": {},
   "source": [
    "*Note: as the name of the steering file here is fictive, no computation is done*"
   ]
  },
  {
   "cell_type": "markdown",
   "metadata": {},
   "source": [
    "The previous command requires all the static librairies to be linked with the Fortran user file in an executable. When using the API with Python, it is the dynamic libraries of the Telemac system that are used."
   ]
  },
  {
   "cell_type": "markdown",
   "metadata": {},
   "source": [
    "The interface between the Telemac libraries and the Python language is automatically created using [f2py](http://docs.scipy.org/doc/numpy-dev/f2py/). This corresponds to the compilation of the Telemac API for Python. It has to be done with the following command:"
   ]
  },
  {
   "cell_type": "code",
   "execution_count": 3,
   "metadata": {
    "collapsed": false
   },
   "outputs": [
    {
     "name": "stdout",
     "output_type": "stream",
     "text": [
      "\n",
      "\n",
      "Loading Options and Configurations\n",
      "~~~~~~~~~~~~~~~~~~~~~~~~~~~~~~~~~~~~~~~~~~~~~~~~~~~~~~~~~~~~~~~~~~~~~~~~\n",
      "\n",
      "... parsing configuration file: /home/I21149/Modeles/TELEMAC/trunk/configs/systel.edf.cfg\n",
      "\n",
      "\n",
      "   _____   ___              __               _                        _    _  _____    _____         _               \n",
      "  / ____| / _ \\            / _|             | |                      | |  | ||  __ \\  / ____|       | |              \n",
      " | |     | (_) |     __ _ | |_   ___   _ __ | |_  _ __   __ _  _ __  | |__| || |__) || |          __| | _   _  _ __  \n",
      " | |      \\__, |    / _` ||  _| / _ \\ | '__|| __|| '__| / _` || '_ \\ |  __  ||  ___/ | |         / _` || | | || '_ \\ \n",
      " | |____    / /  _ | (_| || |  | (_) || |   | |_ | |   | (_| || | | || |  | || |     | |____  _ | (_| || |_| || | | |\n",
      "  \\_____|  /_/  (_) \\__, ||_|   \\___/ |_|    \\__||_|    \\__,_||_| |_||_|  |_||_|      \\_____|(_) \\__,_| \\__, ||_| |_|\n",
      "                     __/ |                                                                               __/ |       \n",
      "                    |___/                                                                               |___/        \n",
      "Compiling the API \n",
      "~~~~~~~~~~~~~~~~~~~~~~~~~~~~~~~~~~~~~~~~~~~~~~~~~~~~~~~~~~~~~~~~~~~~~~~~\n",
      "\n",
      "Unknown vendor: \"gfortran\"\n",
      "In file included from /home/I21149/Logiciels/Anaconda/lib/python2.7/site-packages/numpy/core/include/numpy/ndarraytypes.h:1777:0,\n",
      "                 from /home/I21149/Logiciels/Anaconda/lib/python2.7/site-packages/numpy/core/include/numpy/ndarrayobject.h:18,\n",
      "                 from /home/I21149/Logiciels/Anaconda/lib/python2.7/site-packages/numpy/core/include/numpy/arrayobject.h:4,\n",
      "                 from /tmp/tmp3UrXpe/src.linux-x86_64-2.7/fortranobject.h:13,\n",
      "                 from /tmp/tmp3UrXpe/src.linux-x86_64-2.7/_apimodule.c:19:\n",
      "/home/I21149/Logiciels/Anaconda/lib/python2.7/site-packages/numpy/core/include/numpy/npy_1_7_deprecated_api.h:15:2: warning: #warning \"Using deprecated NumPy API, disable it by \" \"#defining NPY_NO_DEPRECATED_API NPY_1_7_API_VERSION\" [-Wcpp]\n",
      " #warning \"Using deprecated NumPy API, disable it by \" \\\n",
      "  ^\n",
      "/tmp/tmp3UrXpe/src.linux-x86_64-2.7/_apimodule.c:186:12: warning: ‘f2py_size’ defined but not used [-Wunused-function]\n",
      " static int f2py_size(PyArrayObject* var, ...)\n",
      "            ^\n",
      "In file included from /home/I21149/Logiciels/Anaconda/lib/python2.7/site-packages/numpy/core/include/numpy/ndarraytypes.h:1777:0,\n",
      "                 from /home/I21149/Logiciels/Anaconda/lib/python2.7/site-packages/numpy/core/include/numpy/ndarrayobject.h:18,\n",
      "                 from /home/I21149/Logiciels/Anaconda/lib/python2.7/site-packages/numpy/core/include/numpy/arrayobject.h:4,\n",
      "                 from /tmp/tmp3UrXpe/src.linux-x86_64-2.7/fortranobject.h:13,\n",
      "                 from /tmp/tmp3UrXpe/src.linux-x86_64-2.7/fortranobject.c:2:\n",
      "/home/I21149/Logiciels/Anaconda/lib/python2.7/site-packages/numpy/core/include/numpy/npy_1_7_deprecated_api.h:15:2: warning: #warning \"Using deprecated NumPy API, disable it by \" \"#defining NPY_NO_DEPRECATED_API NPY_1_7_API_VERSION\" [-Wcpp]\n",
      " #warning \"Using deprecated NumPy API, disable it by \" \\\n",
      "  ^\n",
      "\n",
      "\n",
      "My work is done\n",
      "\n",
      "\n"
     ]
    },
    {
     "name": "stderr",
     "output_type": "stream",
     "text": [
      "analyzevars: charselector={'len': 't2d_var_len'} unhandled.analyzevars: charselector={'len': 't2d_info_len'} unhandled.analyzevars: charselector={'len': 'sis_var_len'} unhandled.analyzevars: charselector={'len': 'sis_info_len'} unhandled.analyzevars: charselector={'len': '32'} unhandled.analyzevars: charselector={'len': '40'} unhandled.analyzevars: charselector={'len': '200'} unhandled.analyzevars: charselector={'len': '40'} unhandled.analyzevars: charselector={'len': '200'} unhandled.analyzevars: charselector={'len': 't2d_var_len'} unhandled.analyzevars: charselector={'len': 't2d_info_len'} unhandled.analyzevars: charselector={'len': 'sis_var_len'} unhandled.analyzevars: charselector={'len': 'sis_info_len'} unhandled.analyzevars: charselector={'len': '32'} unhandled.analyzevars: charselector={'len': '40'} unhandled.analyzevars: charselector={'len': '200'} unhandled.analyzevars: charselector={'len': '40'} unhandled.analyzevars: charselector={'len': '200'} unhandled.getstrlength:intent(hide): expected a string with defined length but got: {'attrspec': [], 'intent': ['out'], 'typespec': 'character', 'charselector': {'*': '(*)'}}\n",
      "getstrlength:intent(hide): expected a string with defined length but got: {'attrspec': [], 'intent': ['out'], 'typespec': 'character', 'charselector': {'*': '(*)'}}\n",
      "getstrlength:intent(hide): expected a string with defined length but got: {'attrspec': [], 'intent': ['out'], 'typespec': 'character', 'charselector': {'*': '(*)'}}\n"
     ]
    }
   ],
   "source": [
    "%%bash\n",
    "compileAPI.py"
   ]
  },
  {
   "cell_type": "markdown",
   "metadata": {},
   "source": [
    "## Using the interface"
   ]
  },
  {
   "cell_type": "markdown",
   "metadata": {},
   "source": [
    "Telemac/Python is now ready to be used as a hydrodynamic 2D solver with the import system:"
   ]
  },
  {
   "cell_type": "code",
   "execution_count": 4,
   "metadata": {
    "collapsed": false
   },
   "outputs": [],
   "source": [
    "import TelApy.api.t2d"
   ]
  },
  {
   "cell_type": "markdown",
   "metadata": {},
   "source": [
    "The module 'TelApy.api.t2d' is located in the '$HOMETEL/scripts/python27/TelApy/api' directory. If an error occurs while attempting to import, check the value of the environment variable PYTHONPATH. Alternatively you can also work with the file 'apiT2d.py' listed in your working directory.\n"
   ]
  },
  {
   "cell_type": "code",
   "execution_count": 5,
   "metadata": {
    "collapsed": false
   },
   "outputs": [
    {
     "name": "stdout",
     "output_type": "stream",
     "text": [
      "/home/I21149/Modeles/TELEMAC/trunk/builds/C9.gfortranHPC.dyn/wrap_api/lib:/home/I21149/Modeles/TELEMAC/trunk/scripts/python27:\n"
     ]
    }
   ],
   "source": [
    "%%bash\n",
    "echo $PYTHONPATH"
   ]
  },
  {
   "cell_type": "markdown",
   "metadata": {},
   "source": [
    "The module 'TelApy.api.t2d' defines a class named 'Telemac2d'. The user will have to instantiate an object from this class in order to run Telemac with all the facilities offered by the API."
   ]
  },
  {
   "cell_type": "code",
   "execution_count": 6,
   "metadata": {
    "collapsed": false
   },
   "outputs": [
    {
     "data": {
      "text/plain": [
       "<TelApy.api.t2d.Telemac2d at 0x7efc399603d0>"
      ]
     },
     "execution_count": 6,
     "metadata": {},
     "output_type": "execute_result"
    }
   ],
   "source": [
    "# Changing of directory : 'examples' directory of the Telemac sources\n",
    "import os\n",
    "HOMETEL = os.environ.get('HOMETEL')\n",
    "os.chdir(HOMETEL + '/examples/telemac2d/breach')\n",
    "\n",
    "# Instantiation of a Telemac2d object from the test case named 'breach'\n",
    "# - steering file : 't2d_breach.cas'\n",
    "# - language : french (1) or english (2: default)\n",
    "from TelApy.api.t2d import Telemac2d\n",
    "my_case = Telemac2d('t2d_breach.cas', lang=1)\n",
    "my_case"
   ]
  },
  {
   "cell_type": "markdown",
   "metadata": {},
   "source": [
    "An object 'my_case' is now created. This object offers some useful methods to communicate with the Telemac computational kernel. These (non exaustive) methods are seen with:"
   ]
  },
  {
   "cell_type": "code",
   "execution_count": 7,
   "metadata": {
    "collapsed": false
   },
   "outputs": [
    {
     "data": {
      "text/plain": [
       "['__class__',\n",
       " '__del__',\n",
       " '__delattr__',\n",
       " '__dict__',\n",
       " '__doc__',\n",
       " '__format__',\n",
       " '__getattribute__',\n",
       " '__hash__',\n",
       " '__init__',\n",
       " '__module__',\n",
       " '__new__',\n",
       " '__reduce__',\n",
       " '__reduce_ex__',\n",
       " '__repr__',\n",
       " '__setattr__',\n",
       " '__sizeof__',\n",
       " '__str__',\n",
       " '__subclasshook__',\n",
       " '__weakref__',\n",
       " '_initstate',\n",
       " '_instanciated',\n",
       " 'apit2d',\n",
       " 'apit2d_inter',\n",
       " 'casfile',\n",
       " 'comm',\n",
       " 'dicofile',\n",
       " 'finalize',\n",
       " 'get_double',\n",
       " 'get_elem',\n",
       " 'get_error_message',\n",
       " 'get_integer',\n",
       " 'get_mesh',\n",
       " 'get_node',\n",
       " 'get_state',\n",
       " 'id',\n",
       " 'ierr',\n",
       " 'init_state_default',\n",
       " 'lang',\n",
       " 'list_variables',\n",
       " 'restore_state',\n",
       " 'run_all_time_steps',\n",
       " 'run_one_time_step',\n",
       " 'save_state',\n",
       " 'set_bathy',\n",
       " 'set_case',\n",
       " 'set_double',\n",
       " 'set_integer',\n",
       " 'set_state',\n",
       " 'show_mesh',\n",
       " 'show_state',\n",
       " 'stdout',\n",
       " 'user_fortran_lib',\n",
       " 'user_fortran_lib_path']"
      ]
     },
     "execution_count": 7,
     "metadata": {},
     "output_type": "execute_result"
    }
   ],
   "source": [
    "dir(my_case)"
   ]
  },
  {
   "cell_type": "markdown",
   "metadata": {
    "collapsed": true
   },
   "source": [
    "# API description"
   ]
  },
  {
   "cell_type": "markdown",
   "metadata": {},
   "source": [
    "The methods listed above give access to the Fortran Telemac API and to some extra functionalities based on Python packages like 'numpy' or 'matplotlib'. The list is still uncomplete and will be improved in future."
   ]
  },
  {
   "cell_type": "markdown",
   "metadata": {},
   "source": [
    "### Get the real value of a Telemac variable"
   ]
  },
  {
   "cell_type": "code",
   "execution_count": 8,
   "metadata": {
    "collapsed": false
   },
   "outputs": [
    {
     "name": "stdout",
     "output_type": "stream",
     "text": [
      "Help on method get_double in module TelApy.api.t2d:\n",
      "\n",
      "get_double(self, varname, global_num=True, *args) method of TelApy.api.t2d.Telemac2d instance\n",
      "    Get the real value of a variable of Telemac 2D\n",
      "    :param varname: Name of the variable\n",
      "    :param global_num: Are the index in Global Numbering (Default True)\n",
      "    :param args: List of indexes By Default 0,0,0\n",
      "    :return: real variable\n",
      "\n"
     ]
    }
   ],
   "source": [
    "help(my_case.get_double)"
   ]
  },
  {
   "cell_type": "markdown",
   "metadata": {},
   "source": [
    "### Get the integer value of a Telemac variable"
   ]
  },
  {
   "cell_type": "code",
   "execution_count": 9,
   "metadata": {
    "collapsed": false
   },
   "outputs": [
    {
     "name": "stdout",
     "output_type": "stream",
     "text": [
      "Help on method get_integer in module TelApy.api.t2d:\n",
      "\n",
      "get_integer(self, varname, *args) method of TelApy.api.t2d.Telemac2d instance\n",
      "    Get the integer value of a variable of Telemac 2D\n",
      "    :param varname: Name of the variable\n",
      "    :param args: List of indexes By Default 0,0,0\n",
      "    :return: integer variable\n",
      "\n"
     ]
    }
   ],
   "source": [
    "help(my_case.get_integer)"
   ]
  },
  {
   "cell_type": "markdown",
   "metadata": {},
   "source": [
    "### Get a node number"
   ]
  },
  {
   "cell_type": "code",
   "execution_count": 10,
   "metadata": {
    "collapsed": false
   },
   "outputs": [
    {
     "name": "stdout",
     "output_type": "stream",
     "text": [
      "Help on method get_node in module TelApy.api.t2d:\n",
      "\n",
      "get_node(self, xval, yval) method of TelApy.api.t2d.Telemac2d instance\n",
      "    Get the nearest node number for the coordinates (xval, yval)\n",
      "    :param xval: X coordinate\n",
      "    :param yval: Y coordinate\n",
      "    :return: integer value from 0 to (nbnode-1)\n",
      "\n"
     ]
    }
   ],
   "source": [
    "help(my_case.get_node)"
   ]
  },
  {
   "cell_type": "markdown",
   "metadata": {},
   "source": [
    "### Get an element number"
   ]
  },
  {
   "cell_type": "code",
   "execution_count": 11,
   "metadata": {
    "collapsed": false
   },
   "outputs": [
    {
     "name": "stdout",
     "output_type": "stream",
     "text": [
      "Help on method get_elem in module TelApy.api.t2d:\n",
      "\n",
      "get_elem(self, xval, yval) method of TelApy.api.t2d.Telemac2d instance\n",
      "    Get the triangle where the point (xval, yval) is\n",
      "    :param xval: X coordinate\n",
      "    :param yval: Y coordinate\n",
      "    :return: integer value from 0 to (nbtriangle-1) (-1 if no triangle found)\n",
      "\n"
     ]
    }
   ],
   "source": [
    "help(my_case.get_elem)"
   ]
  },
  {
   "cell_type": "markdown",
   "metadata": {},
   "source": [
    "### Error message from Telemac"
   ]
  },
  {
   "cell_type": "code",
   "execution_count": 12,
   "metadata": {
    "collapsed": false
   },
   "outputs": [
    {
     "name": "stdout",
     "output_type": "stream",
     "text": [
      "Help on method get_error_message in module TelApy.api.t2d:\n",
      "\n",
      "get_error_message(self) method of TelApy.api.t2d.Telemac2d instance\n",
      "    Get the error message from the Fortran sources of Telemac 2D\n",
      "    :return: character string of the error message\n",
      "\n"
     ]
    }
   ],
   "source": [
    "help(my_case.get_error_message)"
   ]
  },
  {
   "cell_type": "markdown",
   "metadata": {},
   "source": [
    "### Mesh coordinates and connectivity"
   ]
  },
  {
   "cell_type": "code",
   "execution_count": 13,
   "metadata": {
    "collapsed": false
   },
   "outputs": [
    {
     "name": "stdout",
     "output_type": "stream",
     "text": [
      "Help on method get_mesh in module TelApy.api.t2d:\n",
      "\n",
      "get_mesh(self) method of TelApy.api.t2d.Telemac2d instance\n",
      "    Get the 2D mesh of triangular cells\n",
      "    :return: XY coordinates and connectivity\n",
      "\n"
     ]
    }
   ],
   "source": [
    "help(my_case.get_mesh)"
   ]
  },
  {
   "cell_type": "markdown",
   "metadata": {},
   "source": [
    "### Hydraulic state"
   ]
  },
  {
   "cell_type": "code",
   "execution_count": 14,
   "metadata": {
    "collapsed": false
   },
   "outputs": [
    {
     "name": "stdout",
     "output_type": "stream",
     "text": [
      "Help on method get_state in module TelApy.api.t2d:\n",
      "\n",
      "get_state(self) method of TelApy.api.t2d.Telemac2d instance\n",
      "    Get the hydraulic state\n",
      "    :return: the hydraulic state: h (m) .. u (m/s) .. v (m/s)\n",
      "\n"
     ]
    }
   ],
   "source": [
    "help(my_case.get_state)"
   ]
  },
  {
   "cell_type": "code",
   "execution_count": 15,
   "metadata": {
    "collapsed": false
   },
   "outputs": [
    {
     "name": "stdout",
     "output_type": "stream",
     "text": [
      "Help on method set_state in module TelApy.api.t2d:\n",
      "\n",
      "set_state(self, hval, uval, vval) method of TelApy.api.t2d.Telemac2d instance\n",
      "    Set the hydraulic state: hval (m) .. uval (m/s) .. vval (m/s)\n",
      "    :param hval: Water depth value\n",
      "    :param uval: Velocity U value\n",
      "    :param vval: Velocity V value\n",
      "\n"
     ]
    }
   ],
   "source": [
    "help(my_case.set_state)"
   ]
  },
  {
   "cell_type": "markdown",
   "metadata": {},
   "source": [
    "### Read the steering file"
   ]
  },
  {
   "cell_type": "code",
   "execution_count": 16,
   "metadata": {
    "collapsed": false
   },
   "outputs": [
    {
     "name": "stdout",
     "output_type": "stream",
     "text": [
      "Help on method set_case in module TelApy.api.t2d:\n",
      "\n",
      "set_case(self) method of TelApy.api.t2d.Telemac2d instance\n",
      "    Read the steering file and run allocation\n",
      "\n"
     ]
    }
   ],
   "source": [
    "help(my_case.set_case)"
   ]
  },
  {
   "cell_type": "markdown",
   "metadata": {},
   "source": [
    "### State initialisation"
   ]
  },
  {
   "cell_type": "code",
   "execution_count": 17,
   "metadata": {
    "collapsed": false
   },
   "outputs": [
    {
     "name": "stdout",
     "output_type": "stream",
     "text": [
      "Help on method init_state_default in module TelApy.api.t2d:\n",
      "\n",
      "init_state_default(self) method of TelApy.api.t2d.Telemac2d instance\n",
      "    Initialize the state of the model Telemac 2D with the values of\n",
      "    disharges and water levels as indicated by the steering file\n",
      "\n"
     ]
    }
   ],
   "source": [
    "help(my_case.init_state_default)"
   ]
  },
  {
   "cell_type": "markdown",
   "metadata": {},
   "source": [
    "### Save a state"
   ]
  },
  {
   "cell_type": "code",
   "execution_count": 18,
   "metadata": {
    "collapsed": false
   },
   "outputs": [
    {
     "name": "stdout",
     "output_type": "stream",
     "text": [
      "Help on method save_state in module TelApy.api.t2d:\n",
      "\n",
      "save_state(self) method of TelApy.api.t2d.Telemac2d instance\n",
      "    Save the hydraulic state\n",
      "\n"
     ]
    }
   ],
   "source": [
    "help(my_case.save_state)"
   ]
  },
  {
   "cell_type": "markdown",
   "metadata": {},
   "source": [
    "### Back to a saved state"
   ]
  },
  {
   "cell_type": "code",
   "execution_count": 19,
   "metadata": {
    "collapsed": false
   },
   "outputs": [
    {
     "name": "stdout",
     "output_type": "stream",
     "text": [
      "Help on method restore_state in module TelApy.api.t2d:\n",
      "\n",
      "restore_state(self) method of TelApy.api.t2d.Telemac2d instance\n",
      "    Restore the hydraulic state\n",
      "    :return: error code\n",
      "\n"
     ]
    }
   ],
   "source": [
    "help(my_case.restore_state)"
   ]
  },
  {
   "cell_type": "markdown",
   "metadata": {},
   "source": [
    "### Run Telemac for one time step"
   ]
  },
  {
   "cell_type": "code",
   "execution_count": 20,
   "metadata": {
    "collapsed": false
   },
   "outputs": [
    {
     "name": "stdout",
     "output_type": "stream",
     "text": [
      "Help on method run_one_time_step in module TelApy.api.t2d:\n",
      "\n",
      "run_one_time_step(self) method of TelApy.api.t2d.Telemac2d instance\n",
      "    Run one time step\n",
      "\n"
     ]
    }
   ],
   "source": [
    "help(my_case.run_one_time_step)"
   ]
  },
  {
   "cell_type": "markdown",
   "metadata": {},
   "source": [
    "### Run Telemac for all the time steps"
   ]
  },
  {
   "cell_type": "code",
   "execution_count": 21,
   "metadata": {
    "collapsed": false
   },
   "outputs": [
    {
     "name": "stdout",
     "output_type": "stream",
     "text": [
      "Help on method run_all_time_steps in module TelApy.api.t2d:\n",
      "\n",
      "run_all_time_steps(self) method of TelApy.api.t2d.Telemac2d instance\n",
      "    Run all the time steps\n",
      "    :return: the number of computed time steps\n",
      "\n"
     ]
    }
   ],
   "source": [
    "help(my_case.run_all_time_steps)"
   ]
  },
  {
   "cell_type": "markdown",
   "metadata": {},
   "source": [
    "### Change the value of a Telemac variable"
   ]
  },
  {
   "cell_type": "code",
   "execution_count": 22,
   "metadata": {
    "collapsed": false
   },
   "outputs": [
    {
     "name": "stdout",
     "output_type": "stream",
     "text": [
      "Help on method set_double in module TelApy.api.t2d:\n",
      "\n",
      "set_double(self, varname, value, global_num=True, *args) method of TelApy.api.t2d.Telemac2d instance\n",
      "    Set the real value of a variable of Telemac 2D\n",
      "    :param varname: Name of the variable\n",
      "    :param value: The value to set\n",
      "    :param global_num: Are the index in Global Numbering (Default True)\n",
      "    :param args: List of indexes By Default 0,0,0\n",
      "    :return: error code\n",
      "\n"
     ]
    }
   ],
   "source": [
    "help(my_case.set_double)"
   ]
  },
  {
   "cell_type": "markdown",
   "metadata": {},
   "source": [
    "### Plotting the mesh"
   ]
  },
  {
   "cell_type": "code",
   "execution_count": 23,
   "metadata": {
    "collapsed": false
   },
   "outputs": [
    {
     "name": "stdout",
     "output_type": "stream",
     "text": [
      "Help on method show_mesh in module TelApy.api.t2d:\n",
      "\n",
      "show_mesh(self, show=True, visu2d=True) method of TelApy.api.t2d.Telemac2d instance\n",
      "    Show the 2D mesh with topography\n",
      "    :param show: Display the graph (Default True)\n",
      "    :param visu2d: 2d display (Default True)\n",
      "    :return: the figure object\n",
      "\n"
     ]
    }
   ],
   "source": [
    "help(my_case.show_mesh)"
   ]
  },
  {
   "cell_type": "markdown",
   "metadata": {},
   "source": [
    "### Plotting the state"
   ]
  },
  {
   "cell_type": "code",
   "execution_count": 24,
   "metadata": {
    "collapsed": false
   },
   "outputs": [
    {
     "name": "stdout",
     "output_type": "stream",
     "text": [
      "Help on method show_state in module TelApy.api.t2d:\n",
      "\n",
      "show_state(self, show=True) method of TelApy.api.t2d.Telemac2d instance\n",
      "    Show the hydraulic state with matplotlib\n",
      "    :param show: Display the graph (Default True)\n",
      "    :return: the figure object\n",
      "\n"
     ]
    }
   ],
   "source": [
    "help(my_case.show_state)"
   ]
  },
  {
   "cell_type": "markdown",
   "metadata": {},
   "source": [
    "# Telemac Variables"
   ]
  },
  {
   "cell_type": "markdown",
   "metadata": {},
   "source": [
    "All the variables and parameters available with the API to set or get a value can be seen with:"
   ]
  },
  {
   "cell_type": "code",
   "execution_count": 25,
   "metadata": {
    "collapsed": false
   },
   "outputs": [
    {
     "ename": "TypeError",
     "evalue": "failed to initialize intent(inout|inplace|cache) array, input not an array",
     "output_type": "error",
     "traceback": [
      "\u001b[1;31m---------------------------------------------------------------------------\u001b[0m",
      "\u001b[1;31mTypeError\u001b[0m                                 Traceback (most recent call last)",
      "\u001b[1;32m<ipython-input-25-56579befe27b>\u001b[0m in \u001b[0;36m<module>\u001b[1;34m()\u001b[0m\n\u001b[1;32m----> 1\u001b[1;33m \u001b[0mvarnames\u001b[0m\u001b[1;33m,\u001b[0m \u001b[0mvarinfo\u001b[0m \u001b[1;33m=\u001b[0m \u001b[0mmy_case\u001b[0m\u001b[1;33m.\u001b[0m\u001b[0mlist_variables\u001b[0m\u001b[1;33m(\u001b[0m\u001b[1;33m)\u001b[0m\u001b[1;33m\u001b[0m\u001b[0m\n\u001b[0m",
      "\u001b[1;32m/home/I21149/Modeles/TELEMAC/trunk/scripts/python27/TelApy/api/t2d.pyc\u001b[0m in \u001b[0;36mlist_variables\u001b[1;34m(self)\u001b[0m\n\u001b[0;32m    340\u001b[0m         \u001b[0mvarnames\u001b[0m \u001b[1;33m=\u001b[0m \u001b[1;33m[\u001b[0m\u001b[1;33m]\u001b[0m\u001b[1;33m\u001b[0m\u001b[0m\n\u001b[0;32m    341\u001b[0m         \u001b[0mvarinfo\u001b[0m \u001b[1;33m=\u001b[0m \u001b[1;33m[\u001b[0m\u001b[1;33m]\u001b[0m\u001b[1;33m\u001b[0m\u001b[0m\n\u001b[1;32m--> 342\u001b[1;33m         \u001b[0mierr\u001b[0m \u001b[1;33m=\u001b[0m \u001b[0mself\u001b[0m\u001b[1;33m.\u001b[0m\u001b[0mapit2d_inter\u001b[0m\u001b[1;33m.\u001b[0m\u001b[0mget_var_list_t2d\u001b[0m\u001b[1;33m(\u001b[0m\u001b[0mvarnames\u001b[0m\u001b[1;33m,\u001b[0m\u001b[0mvarinfo\u001b[0m\u001b[1;33m)\u001b[0m\u001b[1;33m\u001b[0m\u001b[0m\n\u001b[0m\u001b[0;32m    343\u001b[0m         \u001b[0mvnames\u001b[0m \u001b[1;33m=\u001b[0m \u001b[1;33m[\u001b[0m\u001b[1;33m]\u001b[0m\u001b[1;33m\u001b[0m\u001b[0m\n\u001b[0;32m    344\u001b[0m         \u001b[0mvinfo\u001b[0m \u001b[1;33m=\u001b[0m \u001b[1;33m[\u001b[0m\u001b[1;33m]\u001b[0m\u001b[1;33m\u001b[0m\u001b[0m\n",
      "\u001b[1;31mTypeError\u001b[0m: failed to initialize intent(inout|inplace|cache) array, input not an array"
     ]
    }
   ],
   "source": [
    "varnames, varinfo = my_case.list_variables()"
   ]
  },
  {
   "cell_type": "code",
   "execution_count": 26,
   "metadata": {
    "collapsed": false
   },
   "outputs": [
    {
     "ename": "NameError",
     "evalue": "name 'varnames' is not defined",
     "output_type": "error",
     "traceback": [
      "\u001b[1;31m---------------------------------------------------------------------------\u001b[0m",
      "\u001b[1;31mNameError\u001b[0m                                 Traceback (most recent call last)",
      "\u001b[1;32m<ipython-input-26-7aac272171eb>\u001b[0m in \u001b[0;36m<module>\u001b[1;34m()\u001b[0m\n\u001b[1;32m----> 1\u001b[1;33m \u001b[1;32mfor\u001b[0m \u001b[0ma\u001b[0m\u001b[1;33m,\u001b[0m \u001b[0mb\u001b[0m \u001b[1;32min\u001b[0m \u001b[0mzip\u001b[0m\u001b[1;33m(\u001b[0m\u001b[0mvarnames\u001b[0m\u001b[1;33m,\u001b[0m \u001b[0mvarinfo\u001b[0m\u001b[1;33m)\u001b[0m\u001b[1;33m:\u001b[0m\u001b[1;33m\u001b[0m\u001b[0m\n\u001b[0m\u001b[0;32m      2\u001b[0m     \u001b[1;32mprint\u001b[0m \u001b[0ma\u001b[0m \u001b[1;33m+\u001b[0m \u001b[1;34m'\\t\\t\\t'\u001b[0m \u001b[1;33m+\u001b[0m \u001b[0mb\u001b[0m\u001b[1;33m\u001b[0m\u001b[0m\n",
      "\u001b[1;31mNameError\u001b[0m: name 'varnames' is not defined"
     ]
    }
   ],
   "source": [
    "for a, b in zip(varnames, varinfo):\n",
    "    print a + '\\t\\t\\t' + b"
   ]
  },
  {
   "cell_type": "markdown",
   "metadata": {},
   "source": [
    "# Example of use"
   ]
  },
  {
   "cell_type": "markdown",
   "metadata": {},
   "source": [
    "Knowing now the API and the variables, a Telemac computation on the test example named 'breach' could be:"
   ]
  },
  {
   "cell_type": "markdown",
   "metadata": {},
   "source": [
    "## Read the steering file and do allocations"
   ]
  },
  {
   "cell_type": "code",
   "execution_count": 32,
   "metadata": {
    "collapsed": true
   },
   "outputs": [],
   "source": [
    "ierr = my_case.set_case()\n",
    "if ierr:\n",
    "    print 'Error : problem with the steering file'"
   ]
  },
  {
   "cell_type": "markdown",
   "metadata": {},
   "source": [
    "## Initialisation"
   ]
  },
  {
   "cell_type": "code",
   "execution_count": null,
   "metadata": {
    "collapsed": false
   },
   "outputs": [],
   "source": [
    "ierr = my_case.init_state_default()\n",
    "if ierr:\n",
    "    print 'Error : unable to initialize the state'\n",
    "    sys.exit()"
   ]
  },
  {
   "cell_type": "markdown",
   "metadata": {},
   "source": [
    "## Mesh view"
   ]
  },
  {
   "cell_type": "code",
   "execution_count": null,
   "metadata": {
    "collapsed": false
   },
   "outputs": [],
   "source": [
    "%matplotlib inline\n",
    "my_figure = my_case.show_mesh(visu2d=False)"
   ]
  },
  {
   "cell_type": "markdown",
   "metadata": {},
   "source": [
    "## Simulation"
   ]
  },
  {
   "cell_type": "code",
   "execution_count": null,
   "metadata": {
    "collapsed": false
   },
   "outputs": [],
   "source": [
    "for i in xrange(100):\n",
    "    ierr = my_case.run_one_time_step()\n",
    "    if my_case.ierr:\n",
    "        print 'Error: the computation does not perform' \\\n",
    "            '\\nTry to use get_error_message for more information'"
   ]
  },
  {
   "cell_type": "markdown",
   "metadata": {},
   "source": [
    "## Current state"
   ]
  },
  {
   "cell_type": "markdown",
   "metadata": {},
   "source": [
    "### Values"
   ]
  },
  {
   "cell_type": "code",
   "execution_count": null,
   "metadata": {
    "collapsed": false
   },
   "outputs": [],
   "source": [
    "import numpy as np\n",
    "\n",
    "h, u, v = my_case.get_state()\n",
    "\n",
    "print 'Mean water height (m) = ', h.mean()\n",
    "print 'Max velocity (m/s) = ', np.amax(np.sqrt(u * u + v * v))"
   ]
  },
  {
   "cell_type": "markdown",
   "metadata": {},
   "source": [
    "### Graph"
   ]
  },
  {
   "cell_type": "code",
   "execution_count": null,
   "metadata": {
    "collapsed": false
   },
   "outputs": [],
   "source": [
    "my_new_figure = my_case.show_state(show=True)"
   ]
  },
  {
   "cell_type": "markdown",
   "metadata": {},
   "source": [
    "### Save"
   ]
  },
  {
   "cell_type": "code",
   "execution_count": null,
   "metadata": {
    "collapsed": false
   },
   "outputs": [],
   "source": [
    "my_case.save_state()\n",
    "my_case.hsave\n",
    "my_case.usave\n",
    "my_case.vsave"
   ]
  },
  {
   "cell_type": "markdown",
   "metadata": {},
   "source": [
    "### Change"
   ]
  },
  {
   "cell_type": "code",
   "execution_count": null,
   "metadata": {
    "collapsed": false
   },
   "outputs": [],
   "source": [
    "# to null velocity\n",
    "number_of_nodes = my_case.get_integer('MODEL.NPOIN')\n",
    "for i in xrange(number_of_nodes):\n",
    "    err = my_case.set_double('MODEL.VELOCITYU', 0., i+1)\n",
    "    err = my_case.set_double('MODEL.VELOCITYV', 0., i+1)\n",
    "   \n",
    "h, u, v = my_case.get_state()\n",
    "print 'Mean velocity (m/s) = ', np.mean(np.sqrt(u * u + v * v))"
   ]
  },
  {
   "cell_type": "markdown",
   "metadata": {},
   "source": [
    "### Restore"
   ]
  },
  {
   "cell_type": "code",
   "execution_count": null,
   "metadata": {
    "collapsed": false
   },
   "outputs": [],
   "source": [
    "err = my_case.restore_state()\n",
    "\n",
    "h, u, v = my_case.get_state()\n",
    "print 'Max velocity (m/s) = ', np.amax(np.sqrt(u * u + v * v))"
   ]
  },
  {
   "cell_type": "markdown",
   "metadata": {},
   "source": [
    "## Parameters"
   ]
  },
  {
   "cell_type": "code",
   "execution_count": null,
   "metadata": {
    "collapsed": false
   },
   "outputs": [],
   "source": [
    "# bottom elevation at node no. 102\n",
    "my_case.get_double('MODEL.BOTTOMELEVATION', 102)"
   ]
  },
  {
   "cell_type": "code",
   "execution_count": null,
   "metadata": {
    "collapsed": false
   },
   "outputs": [],
   "source": [
    "# friction coefficient (Strickler value) at node no. 500\n",
    "my_case.get_double('MODEL.CHESTR', 500)"
   ]
  },
  {
   "cell_type": "markdown",
   "metadata": {},
   "source": [
    "## Deletion"
   ]
  },
  {
   "cell_type": "code",
   "execution_count": null,
   "metadata": {
    "collapsed": false
   },
   "outputs": [],
   "source": [
    "ierr = my_case.finalize()\n",
    "if ierr:\n",
    "    print 'Error : unable to delete the Telemac 2d instance'\n",
    "    sys.exit()\n",
    "del(my_case)"
   ]
  }
 ],
 "metadata": {
  "anaconda-cloud": {},
  "kernelspec": {
   "display_name": "Python [default]",
   "language": "python",
   "name": "python2"
  },
  "language_info": {
   "codemirror_mode": {
    "name": "ipython",
    "version": 2
   },
   "file_extension": ".py",
   "mimetype": "text/x-python",
   "name": "python",
   "nbconvert_exporter": "python",
   "pygments_lexer": "ipython2",
   "version": "2.7.12"
  }
 },
 "nbformat": 4,
 "nbformat_minor": 0
}
